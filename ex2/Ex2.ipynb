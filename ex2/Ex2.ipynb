{
 "cells": [
  {
   "cell_type": "markdown",
   "metadata": {},
   "source": [
    "### EXPERIMENT : WAP to implement a multi-layer perceptron (MLP) network with one hidden layer using numpy in Python. Demonstrate that it can learn the XOR Boolean function.  "
   ]
  },
  {
   "cell_type": "markdown",
   "metadata": {},
   "source": [
    "A **multi-layer perceptron (MLP)** using a **step function** is not typically used for XOR because step functions do not allow smooth learning with gradient descent. However, since the requirement is to use a **step function**, we need to manually implement weight updates to learn the XOR function correctly.  \n",
    "\n",
    "### **Key Modifications for Step Function MLP:**\n",
    "1. **Use a step function instead of sigmoid**  \n",
    "2. **Manually adjust weight updates** since backpropagation requires differentiability (which step functions lack)  \n",
    "3. **Ensure at least one hidden layer to handle XOR non-linearity**  \n",
    "\n",
    "---\n",
    "\n",
    "### **Code: MLP with Step Function for XOR**"
   ]
  },
  {
   "cell_type": "code",
   "execution_count": 2,
   "metadata": {},
   "outputs": [],
   "source": [
    "import numpy as np\n",
    "\n",
    "class MLP_Step_XOR:\n",
    "    def __init__(self, input_size, hidden_size, learning_rate=0.1, epochs=10000):\n",
    "        self.input_size = input_size\n",
    "        self.hidden_size = hidden_size\n",
    "        self.learning_rate = learning_rate\n",
    "        self.epochs = epochs\n",
    "\n",
    "        # Initialize weights and biases randomly\n",
    "        self.weights_input_hidden = np.random.randn(self.input_size, self.hidden_size)\n",
    "        self.bias_hidden = np.zeros((1, self.hidden_size))\n",
    "        self.weights_hidden_output = np.random.randn(self.hidden_size, 1)\n",
    "        self.bias_output = np.zeros((1, 1))\n",
    "\n",
    "    def step_function(self, x):\n",
    "        \"\"\"Step activation function\"\"\"\n",
    "        return np.where(x >= 0, 1, 0)\n",
    "\n",
    "    def forward(self, X):\n",
    "        \"\"\"Forward pass with step activation function\"\"\"\n",
    "        self.hidden_layer_input = np.dot(X, self.weights_input_hidden) + self.bias_hidden\n",
    "        self.hidden_layer_output = self.step_function(self.hidden_layer_input)\n",
    "\n",
    "        self.final_input = np.dot(self.hidden_layer_output, self.weights_hidden_output) + self.bias_output\n",
    "        self.final_output = self.step_function(self.final_input)\n",
    "\n",
    "        return self.final_output\n",
    "\n",
    "    def train(self, X, y):\n",
    "        \"\"\"Train using manual weight updates (since step function prevents gradient-based updates)\"\"\"\n",
    "        for epoch in range(self.epochs):\n",
    "            total_error = 0\n",
    "            for i in range(len(X)):\n",
    "                x_i = X[i].reshape(1, -1)  # Reshape input for matrix operations\n",
    "                y_i = y[i].reshape(1, -1)\n",
    "\n",
    "                # Forward pass\n",
    "                hidden_input = np.dot(x_i, self.weights_input_hidden) + self.bias_hidden\n",
    "                hidden_output = self.step_function(hidden_input)\n",
    "\n",
    "                final_input = np.dot(hidden_output, self.weights_hidden_output) + self.bias_output\n",
    "                y_pred = self.step_function(final_input)\n",
    "\n",
    "                # Calculate error\n",
    "                error = y_i - y_pred\n",
    "                total_error += np.abs(error).sum()\n",
    "\n",
    "                # Update weights using perceptron learning rule\n",
    "                self.weights_hidden_output += self.learning_rate * hidden_output.T.dot(error)\n",
    "                self.bias_output += self.learning_rate * error\n",
    "\n",
    "                self.weights_input_hidden += self.learning_rate * x_i.T.dot(error.dot(self.weights_hidden_output.T))\n",
    "                self.bias_hidden += self.learning_rate * error.dot(self.weights_hidden_output.T)\n",
    "\n",
    "            if epoch % 1000 == 0:\n",
    "                print(f\"Epoch {epoch}: Total Error = {total_error}\")\n",
    "\n",
    "            # Stop early if error is 0\n",
    "            if total_error == 0:\n",
    "                break\n",
    "\n",
    "    def predict(self, X):\n",
    "        \"\"\"Predict output\"\"\"\n",
    "        return self.forward(X)\n"
   ]
  },
  {
   "cell_type": "code",
   "execution_count": 3,
   "metadata": {},
   "outputs": [
    {
     "name": "stdout",
     "output_type": "stream",
     "text": [
      "Epoch 0: Total Error = 3\n",
      "Epoch 1000: Total Error = 2\n",
      "Epoch 2000: Total Error = 2\n",
      "Epoch 3000: Total Error = 2\n",
      "Epoch 4000: Total Error = 2\n",
      "Epoch 5000: Total Error = 2\n",
      "Epoch 6000: Total Error = 2\n",
      "Epoch 7000: Total Error = 2\n",
      "Epoch 8000: Total Error = 2\n",
      "Epoch 9000: Total Error = 2\n",
      "\n",
      "Testing the trained MLP on XOR dataset:\n",
      "Input: [0 0], Predicted Output: 0\n",
      "Input: [0 1], Predicted Output: 0\n",
      "Input: [1 0], Predicted Output: 0\n",
      "Input: [1 1], Predicted Output: 0\n"
     ]
    }
   ],
   "source": [
    "# XOR dataset\n",
    "X = np.array([\n",
    "    [0, 0],\n",
    "    [0, 1],\n",
    "    [1, 0],\n",
    "    [1, 1]\n",
    "])\n",
    "\n",
    "y = np.array([\n",
    "    [0],\n",
    "    [1],\n",
    "    [1],\n",
    "    [0]\n",
    "])\n",
    "\n",
    "# Train the MLP on XOR dataset\n",
    "mlp = MLP_Step_XOR(input_size=2, hidden_size=2, learning_rate=0.1, epochs=10000)\n",
    "mlp.train(X, y)\n",
    "\n",
    "# Test the trained MLP on XOR dataset\n",
    "print(\"\\nTesting the trained MLP on XOR dataset:\")\n",
    "for x in X:\n",
    "    print(f\"Input: {x}, Predicted Output: {mlp.predict(np.array([x]))[0][0]}\")"
   ]
  }
 ],
 "metadata": {
  "kernelspec": {
   "display_name": "base",
   "language": "python",
   "name": "python3"
  },
  "language_info": {
   "codemirror_mode": {
    "name": "ipython",
    "version": 3
   },
   "file_extension": ".py",
   "mimetype": "text/x-python",
   "name": "python",
   "nbconvert_exporter": "python",
   "pygments_lexer": "ipython3",
   "version": "3.12.7"
  }
 },
 "nbformat": 4,
 "nbformat_minor": 2
}
