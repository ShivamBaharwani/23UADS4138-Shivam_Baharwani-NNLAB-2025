{
 "cells": [
  {
   "cell_type": "markdown",
   "metadata": {},
   "source": [
    "## WAP to implement the Gradient Descent algorithm for perceptron learning using numpy and Pandas."
   ]
  },
  {
   "cell_type": "markdown",
   "metadata": {},
   "source": [
    "## Perceptron Gradient Descent Implementation\n",
    "\n",
    "---\n",
    "### How it Works:\n",
    "\n",
    "1.  **Initialization**:\n",
    "    \n",
    "    -   `weights` are initialized to zeros.\n",
    "    -   `bias` is initialized to 0.\n",
    "2.  **Training**:\n",
    "    \n",
    "    -   For each epoch, the perceptron processes each sample.\n",
    "    -   The `linear_output` is calculated using `np.dot` for the weighted sum.\n",
    "    -   The `activation` function applies a step function to predict the label.\n",
    "    -   Errors are calculated, and weights and bias are updated using gradient descent.\n",
    "3.  **Prediction**:\n",
    "    \n",
    "    -   The perceptron calculates the `linear_output` for new data and applies the step function to classify inputs.\n",
    "4.  **Monitoring**:\n",
    "    \n",
    "    -   The total error for each epoch is printed. Training stops early if the error becomes zero.\n"
   ]
  },
  {
   "cell_type": "code",
   "execution_count": 1,
   "metadata": {},
   "outputs": [],
   "source": [
    "import numpy as np\n",
    "import pandas as pd\n",
    "\n",
    "class PerceptronGradientDescent:\n",
    "    def __init__(self, learning_rate=0.01, max_epochs=1000):\n",
    "        \"\"\"\n",
    "        Initialize the perceptron with learning rate and maximum epochs.\n",
    "\n",
    "        Args:\n",
    "            learning_rate (float): Step size for weight updates.\n",
    "            max_epochs (int): Maximum number of epochs to train.\n",
    "        \"\"\"\n",
    "        self.learning_rate = learning_rate\n",
    "        self.max_epochs = max_epochs\n",
    "        self.weights = None\n",
    "        self.bias = 0\n",
    "\n",
    "    def activation(self, x):\n",
    "        \"\"\"Activation function for perceptron (step function).\"\"\"\n",
    "        return np.where(x >= 0, 1, 0)\n",
    "\n",
    "    def fit(self, X, y):\n",
    "        \"\"\"\n",
    "        Train the perceptron using gradient descent.\n",
    "\n",
    "        Args:\n",
    "            X (pd.DataFrame or np.ndarray): Feature matrix.\n",
    "            y (pd.Series or np.ndarray): Target vector.\n",
    "        \"\"\"\n",
    "        X = np.array(X)\n",
    "        y = np.array(y)\n",
    "\n",
    "        # Initialize weights and bias\n",
    "        n_features = X.shape[1]\n",
    "        self.weights = np.zeros(n_features)\n",
    "        self.bias = 0\n",
    "\n",
    "        for epoch in range(self.max_epochs):\n",
    "            total_error = 0\n",
    "\n",
    "            for xi, target in zip(X, y):\n",
    "                # Calculate linear output\n",
    "                linear_output = np.dot(xi, self.weights) + self.bias\n",
    "\n",
    "                # Apply activation function\n",
    "                prediction = self.activation(linear_output)\n",
    "\n",
    "                # Compute error\n",
    "                error = target - prediction\n",
    "                total_error += error ** 2\n",
    "\n",
    "                # Update weights and bias\n",
    "                self.weights += self.learning_rate * error * xi\n",
    "                self.bias += self.learning_rate * error\n",
    "\n",
    "            # Print epoch and error for monitoring\n",
    "            print(f\"Epoch {epoch+1}/{self.max_epochs}, Total Error: {total_error}\")\n",
    "\n",
    "            # Stop if no error\n",
    "            if total_error == 0:\n",
    "                break\n",
    "\n",
    "    def predict(self, X):\n",
    "        \"\"\"\n",
    "        Predict class labels for input data.\n",
    "\n",
    "        Args:\n",
    "            X (pd.DataFrame or np.ndarray): Feature matrix.\n",
    "\n",
    "        Returns:\n",
    "            np.ndarray: Predicted class labels.\n",
    "        \"\"\"\n",
    "        X = np.array(X)\n",
    "        linear_output = np.dot(X, self.weights) + self.bias\n",
    "        return self.activation(linear_output)"
   ]
  },
  {
   "cell_type": "markdown",
   "metadata": {},
   "source": [
    "### Example usage:"
   ]
  },
  {
   "cell_type": "code",
   "execution_count": 2,
   "metadata": {},
   "outputs": [
    {
     "name": "stdout",
     "output_type": "stream",
     "text": [
      "Testing the Perceptron:\n",
      "Input: [0 0], Predicted Output: 0, Actual Output: 0\n",
      "Input: [0 1], Predicted Output: 0, Actual Output: 0\n",
      "Input: [1 0], Predicted Output: 0, Actual Output: 0\n",
      "Input: [1 1], Predicted Output: 1, Actual Output: 1\n"
     ]
    }
   ],
   "source": [
    "if __name__ == \"__main__\":\n",
    "    # Create a simple dataset\n",
    "    data = {\n",
    "        'Feature1': [2, 4, 1, 3],\n",
    "        'Feature2': [1, 3, 1, 2],\n",
    "        'Label': [0, 1, 0, 1]\n",
    "    }\n",
    "\n",
    "    # Load data into Pandas DataFrame\n",
    "    df = pd.DataFrame(data)\n",
    "\n",
    "    # Split features and target\n",
    "    X = df[['Feature1', 'Feature2']]\n",
    "    y = df['Label']\n",
    "\n",
    "    # Initialize and train perceptron\n",
    "    perceptron = PerceptronGradientDescent(learning_rate=0.1, max_epochs=10)\n",
    "    perceptron.fit(X, y)\n",
    "\n",
    "    # Predict on the training set\n",
    "    predictions = perceptron.predict(X)\n",
    "    print(\"Predictions:\", predictions)\n"
   ]
  },
  {
   "cell_type": "code",
   "execution_count": null,
   "metadata": {},
   "outputs": [],
   "source": []
  }
 ],
 "metadata": {
  "kernelspec": {
   "display_name": "Projects",
   "language": "python",
   "name": "python3"
  },
  "language_info": {
   "codemirror_mode": {
    "name": "ipython",
    "version": 3
   },
   "file_extension": ".py",
   "mimetype": "text/x-python",
   "name": "python",
   "nbconvert_exporter": "python",
   "pygments_lexer": "ipython3",
   "version": "3.12.8"
  }
 },
 "nbformat": 4,
 "nbformat_minor": 2
}
