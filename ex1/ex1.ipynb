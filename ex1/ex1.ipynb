{
 "cells": [
  {
   "cell_type": "markdown",
   "metadata": {},
   "source": [
    "### Experiment : WAP to implement the Perceptron Learning Algorithm using numpy in Python. Evaluate performance of a single perceptron for NAND and XOR truth tables as input dataset."
   ]
  },
  {
   "cell_type": "markdown",
   "metadata": {},
   "source": [
    "This code implements a simple **Perceptron** algorithm for binary classification. It consists of a class `Perceptron` that initializes weights, applies an activation function (step function), makes predictions, and updates weights using the Perceptron learning rule.\n",
    "\n",
    "### Breakdown:\n",
    "1. **Initialization (`__init__`)**: Initializes weights to zeros and sets learning rate and number of epochs.\n",
    "2. **Activation Function (`activation_function`)**: Uses a step function (returns 1 if input ≥ 0, else 0).\n",
    "3. **Prediction (`predict`)**: Computes the weighted sum of inputs and applies the activation function.\n",
    "4. **Training (`fit`)**: Iterates over the dataset for the given epochs, adjusting weights based on prediction errors.\n",
    "5. **Main Execution**:\n",
    "   - Trains the Perceptron on a basic **AND gate** dataset.\n",
    "   - After training, it tests the model and prints predictions.\n",
    "\n",
    "This implementation is a fundamental example of a **single-layer perceptron** used for **linear classification** problems."
   ]
  },
  {
   "cell_type": "code",
   "execution_count": 4,
   "metadata": {},
   "outputs": [],
   "source": [
    "import numpy as np\n",
    "class Perceptron:\n",
    "    def __init__(self, input_size, learning_rate=0.01, epochs=100):\n",
    "        self.weights = np.zeros(input_size + 1)\n",
    "        self.learning_rate = learning_rate\n",
    "        self.epochs = epochs\n",
    "\n",
    "    def activation_function(self, x):\n",
    "        return 1 if x >= 0 else 0\n",
    "\n",
    "    def predict(self, x):\n",
    "        z = np.dot(x, self.weights[1:]) + self.weights[0] \n",
    "        return self.activation_function(z)\n",
    "\n",
    "    def fit(self, X, y):\n",
    "        for _ in range(self.epochs):\n",
    "            for i in range(len(X)):\n",
    "                x_i = X[i]\n",
    "                y_pred = self.predict(x_i)\n",
    "                update = self.learning_rate * (y[i] - y_pred)\n",
    "                self.weights[1:] += update * x_i  \n",
    "                self.weights[0] += update  "
   ]
  },
  {
   "cell_type": "code",
   "execution_count": 5,
   "metadata": {},
   "outputs": [
    {
     "name": "stdout",
     "output_type": "stream",
     "text": [
      "Input: [0 0], Predicted Output: 0\n",
      "Input: [0 1], Predicted Output: 0\n",
      "Input: [1 0], Predicted Output: 0\n",
      "Input: [1 1], Predicted Output: 1\n"
     ]
    }
   ],
   "source": [
    "if __name__ == \"__main__\":\n",
    "    X = np.array([\n",
    "        [0, 0],\n",
    "        [0, 1],\n",
    "        [1, 0],\n",
    "        [1, 1]\n",
    "    ])\n",
    "\n",
    "    y = np.array([0, 0, 0, 1])\n",
    "\n",
    "    perceptron = Perceptron(input_size=2, learning_rate=0.1, epochs=10)\n",
    "    perceptron.fit(X, y)\n",
    "\n",
    "    for x in X:\n",
    "        print(f\"Input: {x}, Predicted Output: {perceptron.predict(x)}\")"
   ]
  }
 ],
 "metadata": {
  "kernelspec": {
   "display_name": "base",
   "language": "python",
   "name": "python3"
  },
  "language_info": {
   "codemirror_mode": {
    "name": "ipython",
    "version": 3
   },
   "file_extension": ".py",
   "mimetype": "text/x-python",
   "name": "python",
   "nbconvert_exporter": "python",
   "pygments_lexer": "ipython3",
   "version": "3.12.7"
  }
 },
 "nbformat": 4,
 "nbformat_minor": 2
}
